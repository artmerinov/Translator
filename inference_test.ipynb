{
 "cells": [
  {
   "cell_type": "code",
   "execution_count": 2,
   "metadata": {},
   "outputs": [
    {
     "name": "stdout",
     "output_type": "stream",
     "text": [
      "The autoreload extension is already loaded. To reload it, use:\n",
      "  %reload_ext autoreload\n"
     ]
    }
   ],
   "source": [
    "import torch\n",
    "\n",
    "from utils import Config, get_latest_weights_file_path\n",
    "from train import Transformer\n",
    "from inference import translate_text\n",
    "from tokenizer import load_tokenizer\n",
    "\n",
    "%load_ext autoreload\n",
    "%autoreload 2"
   ]
  },
  {
   "cell_type": "code",
   "execution_count": 3,
   "metadata": {},
   "outputs": [
    {
     "ename": "RuntimeError",
     "evalue": "Error(s) in loading state_dict for Transformer:\n\tMissing key(s) in state_dict: \"encoder.input_embedding.embedding.weight\", \"encoder.pos_encoding.pe\", \"encoder.encoder_block.self_attention_block.w_q.weight\", \"encoder.encoder_block.self_attention_block.w_k.weight\", \"encoder.encoder_block.self_attention_block.w_v.weight\", \"encoder.encoder_block.self_attention_block.w_o.weight\", \"encoder.encoder_block.norm.alpha\", \"encoder.encoder_block.norm.bias\", \"encoder.encoder_block.feed_forward_block.fc1.weight\", \"encoder.encoder_block.feed_forward_block.fc1.bias\", \"encoder.encoder_block.feed_forward_block.fc2.weight\", \"encoder.encoder_block.feed_forward_block.fc2.bias\", \"encoder.layers.0.norm.alpha\", \"encoder.layers.0.norm.bias\", \"encoder.layers.1.norm.alpha\", \"encoder.layers.1.norm.bias\", \"encoder.layers.2.norm.alpha\", \"encoder.layers.2.norm.bias\", \"encoder.layers.3.norm.alpha\", \"encoder.layers.3.norm.bias\", \"encoder.layers.4.norm.alpha\", \"encoder.layers.4.norm.bias\", \"encoder.layers.5.norm.alpha\", \"encoder.layers.5.norm.bias\", \"decoder.input_embedding.embedding.weight\", \"decoder.pos_encoding.pe\", \"decoder.decoder_block.attention_block.w_q.weight\", \"decoder.decoder_block.attention_block.w_k.weight\", \"decoder.decoder_block.attention_block.w_v.weight\", \"decoder.decoder_block.attention_block.w_o.weight\", \"decoder.decoder_block.norm.alpha\", \"decoder.decoder_block.norm.bias\", \"decoder.decoder_block.feed_forward_block.fc1.weight\", \"decoder.decoder_block.feed_forward_block.fc1.bias\", \"decoder.decoder_block.feed_forward_block.fc2.weight\", \"decoder.decoder_block.feed_forward_block.fc2.bias\", \"decoder.layers.0.attention_block.w_q.weight\", \"decoder.layers.0.attention_block.w_k.weight\", \"decoder.layers.0.attention_block.w_v.weight\", \"decoder.layers.0.attention_block.w_o.weight\", \"decoder.layers.0.norm.alpha\", \"decoder.layers.0.norm.bias\", \"decoder.layers.1.attention_block.w_q.weight\", \"decoder.layers.1.attention_block.w_k.weight\", \"decoder.layers.1.attention_block.w_v.weight\", \"decoder.layers.1.attention_block.w_o.weight\", \"decoder.layers.1.norm.alpha\", \"decoder.layers.1.norm.bias\", \"decoder.layers.2.attention_block.w_q.weight\", \"decoder.layers.2.attention_block.w_k.weight\", \"decoder.layers.2.attention_block.w_v.weight\", \"decoder.layers.2.attention_block.w_o.weight\", \"decoder.layers.2.norm.alpha\", \"decoder.layers.2.norm.bias\", \"decoder.layers.3.attention_block.w_q.weight\", \"decoder.layers.3.attention_block.w_k.weight\", \"decoder.layers.3.attention_block.w_v.weight\", \"decoder.layers.3.attention_block.w_o.weight\", \"decoder.layers.3.norm.alpha\", \"decoder.layers.3.norm.bias\", \"decoder.layers.4.attention_block.w_q.weight\", \"decoder.layers.4.attention_block.w_k.weight\", \"decoder.layers.4.attention_block.w_v.weight\", \"decoder.layers.4.attention_block.w_o.weight\", \"decoder.layers.4.norm.alpha\", \"decoder.layers.4.norm.bias\", \"decoder.layers.5.attention_block.w_q.weight\", \"decoder.layers.5.attention_block.w_k.weight\", \"decoder.layers.5.attention_block.w_v.weight\", \"decoder.layers.5.attention_block.w_o.weight\", \"decoder.layers.5.norm.alpha\", \"decoder.layers.5.norm.bias\", \"decoder.proj.fc.weight\", \"decoder.proj.fc.bias\". \n\tUnexpected key(s) in state_dict: \"src_embed.embedding.weight\", \"tgt_embed.embedding.weight\", \"src_pos.pe\", \"tgt_pos.pe\", \"projection_layer.proj.weight\", \"projection_layer.proj.bias\", \"encoder.layers.0.residual_connection1.norm.alpha\", \"encoder.layers.0.residual_connection1.norm.bias\", \"encoder.layers.0.residual_connection2.norm.alpha\", \"encoder.layers.0.residual_connection2.norm.bias\", \"encoder.layers.1.residual_connection1.norm.alpha\", \"encoder.layers.1.residual_connection1.norm.bias\", \"encoder.layers.1.residual_connection2.norm.alpha\", \"encoder.layers.1.residual_connection2.norm.bias\", \"encoder.layers.2.residual_connection1.norm.alpha\", \"encoder.layers.2.residual_connection1.norm.bias\", \"encoder.layers.2.residual_connection2.norm.alpha\", \"encoder.layers.2.residual_connection2.norm.bias\", \"encoder.layers.3.residual_connection1.norm.alpha\", \"encoder.layers.3.residual_connection1.norm.bias\", \"encoder.layers.3.residual_connection2.norm.alpha\", \"encoder.layers.3.residual_connection2.norm.bias\", \"encoder.layers.4.residual_connection1.norm.alpha\", \"encoder.layers.4.residual_connection1.norm.bias\", \"encoder.layers.4.residual_connection2.norm.alpha\", \"encoder.layers.4.residual_connection2.norm.bias\", \"encoder.layers.5.residual_connection1.norm.alpha\", \"encoder.layers.5.residual_connection1.norm.bias\", \"encoder.layers.5.residual_connection2.norm.alpha\", \"encoder.layers.5.residual_connection2.norm.bias\", \"decoder.layers.0.self_attention_block.w_q.weight\", \"decoder.layers.0.self_attention_block.w_k.weight\", \"decoder.layers.0.self_attention_block.w_v.weight\", \"decoder.layers.0.self_attention_block.w_o.weight\", \"decoder.layers.0.cross_attention_block.w_q.weight\", \"decoder.layers.0.cross_attention_block.w_k.weight\", \"decoder.layers.0.cross_attention_block.w_v.weight\", \"decoder.layers.0.cross_attention_block.w_o.weight\", \"decoder.layers.0.residual_connection1.norm.alpha\", \"decoder.layers.0.residual_connection1.norm.bias\", \"decoder.layers.0.residual_connection2.norm.alpha\", \"decoder.layers.0.residual_connection2.norm.bias\", \"decoder.layers.0.residual_connection3.norm.alpha\", \"decoder.layers.0.residual_connection3.norm.bias\", \"decoder.layers.1.self_attention_block.w_q.weight\", \"decoder.layers.1.self_attention_block.w_k.weight\", \"decoder.layers.1.self_attention_block.w_v.weight\", \"decoder.layers.1.self_attention_block.w_o.weight\", \"decoder.layers.1.cross_attention_block.w_q.weight\", \"decoder.layers.1.cross_attention_block.w_k.weight\", \"decoder.layers.1.cross_attention_block.w_v.weight\", \"decoder.layers.1.cross_attention_block.w_o.weight\", \"decoder.layers.1.residual_connection1.norm.alpha\", \"decoder.layers.1.residual_connection1.norm.bias\", \"decoder.layers.1.residual_connection2.norm.alpha\", \"decoder.layers.1.residual_connection2.norm.bias\", \"decoder.layers.1.residual_connection3.norm.alpha\", \"decoder.layers.1.residual_connection3.norm.bias\", \"decoder.layers.2.self_attention_block.w_q.weight\", \"decoder.layers.2.self_attention_block.w_k.weight\", \"decoder.layers.2.self_attention_block.w_v.weight\", \"decoder.layers.2.self_attention_block.w_o.weight\", \"decoder.layers.2.cross_attention_block.w_q.weight\", \"decoder.layers.2.cross_attention_block.w_k.weight\", \"decoder.layers.2.cross_attention_block.w_v.weight\", \"decoder.layers.2.cross_attention_block.w_o.weight\", \"decoder.layers.2.residual_connection1.norm.alpha\", \"decoder.layers.2.residual_connection1.norm.bias\", \"decoder.layers.2.residual_connection2.norm.alpha\", \"decoder.layers.2.residual_connection2.norm.bias\", \"decoder.layers.2.residual_connection3.norm.alpha\", \"decoder.layers.2.residual_connection3.norm.bias\", \"decoder.layers.3.self_attention_block.w_q.weight\", \"decoder.layers.3.self_attention_block.w_k.weight\", \"decoder.layers.3.self_attention_block.w_v.weight\", \"decoder.layers.3.self_attention_block.w_o.weight\", \"decoder.layers.3.cross_attention_block.w_q.weight\", \"decoder.layers.3.cross_attention_block.w_k.weight\", \"decoder.layers.3.cross_attention_block.w_v.weight\", \"decoder.layers.3.cross_attention_block.w_o.weight\", \"decoder.layers.3.residual_connection1.norm.alpha\", \"decoder.layers.3.residual_connection1.norm.bias\", \"decoder.layers.3.residual_connection2.norm.alpha\", \"decoder.layers.3.residual_connection2.norm.bias\", \"decoder.layers.3.residual_connection3.norm.alpha\", \"decoder.layers.3.residual_connection3.norm.bias\", \"decoder.layers.4.self_attention_block.w_q.weight\", \"decoder.layers.4.self_attention_block.w_k.weight\", \"decoder.layers.4.self_attention_block.w_v.weight\", \"decoder.layers.4.self_attention_block.w_o.weight\", \"decoder.layers.4.cross_attention_block.w_q.weight\", \"decoder.layers.4.cross_attention_block.w_k.weight\", \"decoder.layers.4.cross_attention_block.w_v.weight\", \"decoder.layers.4.cross_attention_block.w_o.weight\", \"decoder.layers.4.residual_connection1.norm.alpha\", \"decoder.layers.4.residual_connection1.norm.bias\", \"decoder.layers.4.residual_connection2.norm.alpha\", \"decoder.layers.4.residual_connection2.norm.bias\", \"decoder.layers.4.residual_connection3.norm.alpha\", \"decoder.layers.4.residual_connection3.norm.bias\", \"decoder.layers.5.self_attention_block.w_q.weight\", \"decoder.layers.5.self_attention_block.w_k.weight\", \"decoder.layers.5.self_attention_block.w_v.weight\", \"decoder.layers.5.self_attention_block.w_o.weight\", \"decoder.layers.5.cross_attention_block.w_q.weight\", \"decoder.layers.5.cross_attention_block.w_k.weight\", \"decoder.layers.5.cross_attention_block.w_v.weight\", \"decoder.layers.5.cross_attention_block.w_o.weight\", \"decoder.layers.5.residual_connection1.norm.alpha\", \"decoder.layers.5.residual_connection1.norm.bias\", \"decoder.layers.5.residual_connection2.norm.alpha\", \"decoder.layers.5.residual_connection2.norm.bias\", \"decoder.layers.5.residual_connection3.norm.alpha\", \"decoder.layers.5.residual_connection3.norm.bias\". ",
     "output_type": "error",
     "traceback": [
      "\u001b[0;31m---------------------------------------------------------------------------\u001b[0m",
      "\u001b[0;31mRuntimeError\u001b[0m                              Traceback (most recent call last)",
      "Cell \u001b[0;32mIn[3], line 23\u001b[0m\n\u001b[1;32m     21\u001b[0m model_filename \u001b[39m=\u001b[39m get_latest_weights_file_path(config\u001b[39m=\u001b[39mconfig)\n\u001b[1;32m     22\u001b[0m state \u001b[39m=\u001b[39m torch\u001b[39m.\u001b[39mload(f\u001b[39m=\u001b[39mmodel_filename, map_location\u001b[39m=\u001b[39mtorch\u001b[39m.\u001b[39mdevice(\u001b[39m'\u001b[39m\u001b[39mcpu\u001b[39m\u001b[39m'\u001b[39m))\n\u001b[0;32m---> 23\u001b[0m model\u001b[39m.\u001b[39;49mload_state_dict(state_dict\u001b[39m=\u001b[39;49mstate[\u001b[39m'\u001b[39;49m\u001b[39mmodel_state_dict\u001b[39;49m\u001b[39m'\u001b[39;49m])\n",
      "File \u001b[0;32m~/PycharmProjects/transformer_for_translation/.venv/lib/python3.10/site-packages/torch/nn/modules/module.py:2041\u001b[0m, in \u001b[0;36mModule.load_state_dict\u001b[0;34m(self, state_dict, strict)\u001b[0m\n\u001b[1;32m   2036\u001b[0m         error_msgs\u001b[39m.\u001b[39minsert(\n\u001b[1;32m   2037\u001b[0m             \u001b[39m0\u001b[39m, \u001b[39m'\u001b[39m\u001b[39mMissing key(s) in state_dict: \u001b[39m\u001b[39m{}\u001b[39;00m\u001b[39m. \u001b[39m\u001b[39m'\u001b[39m\u001b[39m.\u001b[39mformat(\n\u001b[1;32m   2038\u001b[0m                 \u001b[39m'\u001b[39m\u001b[39m, \u001b[39m\u001b[39m'\u001b[39m\u001b[39m.\u001b[39mjoin(\u001b[39m'\u001b[39m\u001b[39m\"\u001b[39m\u001b[39m{}\u001b[39;00m\u001b[39m\"\u001b[39m\u001b[39m'\u001b[39m\u001b[39m.\u001b[39mformat(k) \u001b[39mfor\u001b[39;00m k \u001b[39min\u001b[39;00m missing_keys)))\n\u001b[1;32m   2040\u001b[0m \u001b[39mif\u001b[39;00m \u001b[39mlen\u001b[39m(error_msgs) \u001b[39m>\u001b[39m \u001b[39m0\u001b[39m:\n\u001b[0;32m-> 2041\u001b[0m     \u001b[39mraise\u001b[39;00m \u001b[39mRuntimeError\u001b[39;00m(\u001b[39m'\u001b[39m\u001b[39mError(s) in loading state_dict for \u001b[39m\u001b[39m{}\u001b[39;00m\u001b[39m:\u001b[39m\u001b[39m\\n\u001b[39;00m\u001b[39m\\t\u001b[39;00m\u001b[39m{}\u001b[39;00m\u001b[39m'\u001b[39m\u001b[39m.\u001b[39mformat(\n\u001b[1;32m   2042\u001b[0m                        \u001b[39mself\u001b[39m\u001b[39m.\u001b[39m\u001b[39m__class__\u001b[39m\u001b[39m.\u001b[39m\u001b[39m__name__\u001b[39m, \u001b[39m\"\u001b[39m\u001b[39m\\n\u001b[39;00m\u001b[39m\\t\u001b[39;00m\u001b[39m\"\u001b[39m\u001b[39m.\u001b[39mjoin(error_msgs)))\n\u001b[1;32m   2043\u001b[0m \u001b[39mreturn\u001b[39;00m _IncompatibleKeys(missing_keys, unexpected_keys)\n",
      "\u001b[0;31mRuntimeError\u001b[0m: Error(s) in loading state_dict for Transformer:\n\tMissing key(s) in state_dict: \"encoder.input_embedding.embedding.weight\", \"encoder.pos_encoding.pe\", \"encoder.encoder_block.self_attention_block.w_q.weight\", \"encoder.encoder_block.self_attention_block.w_k.weight\", \"encoder.encoder_block.self_attention_block.w_v.weight\", \"encoder.encoder_block.self_attention_block.w_o.weight\", \"encoder.encoder_block.norm.alpha\", \"encoder.encoder_block.norm.bias\", \"encoder.encoder_block.feed_forward_block.fc1.weight\", \"encoder.encoder_block.feed_forward_block.fc1.bias\", \"encoder.encoder_block.feed_forward_block.fc2.weight\", \"encoder.encoder_block.feed_forward_block.fc2.bias\", \"encoder.layers.0.norm.alpha\", \"encoder.layers.0.norm.bias\", \"encoder.layers.1.norm.alpha\", \"encoder.layers.1.norm.bias\", \"encoder.layers.2.norm.alpha\", \"encoder.layers.2.norm.bias\", \"encoder.layers.3.norm.alpha\", \"encoder.layers.3.norm.bias\", \"encoder.layers.4.norm.alpha\", \"encoder.layers.4.norm.bias\", \"encoder.layers.5.norm.alpha\", \"encoder.layers.5.norm.bias\", \"decoder.input_embedding.embedding.weight\", \"decoder.pos_encoding.pe\", \"decoder.decoder_block.attention_block.w_q.weight\", \"decoder.decoder_block.attention_block.w_k.weight\", \"decoder.decoder_block.attention_block.w_v.weight\", \"decoder.decoder_block.attention_block.w_o.weight\", \"decoder.decoder_block.norm.alpha\", \"decoder.decoder_block.norm.bias\", \"decoder.decoder_block.feed_forward_block.fc1.weight\", \"decoder.decoder_block.feed_forward_block.fc1.bias\", \"decoder.decoder_block.feed_forward_block.fc2.weight\", \"decoder.decoder_block.feed_forward_block.fc2.bias\", \"decoder.layers.0.attention_block.w_q.weight\", \"decoder.layers.0.attention_block.w_k.weight\", \"decoder.layers.0.attention_block.w_v.weight\", \"decoder.layers.0.attention_block.w_o.weight\", \"decoder.layers.0.norm.alpha\", \"decoder.layers.0.norm.bias\", \"decoder.layers.1.attention_block.w_q.weight\", \"decoder.layers.1.attention_block.w_k.weight\", \"decoder.layers.1.attention_block.w_v.weight\", \"decoder.layers.1.attention_block.w_o.weight\", \"decoder.layers.1.norm.alpha\", \"decoder.layers.1.norm.bias\", \"decoder.layers.2.attention_block.w_q.weight\", \"decoder.layers.2.attention_block.w_k.weight\", \"decoder.layers.2.attention_block.w_v.weight\", \"decoder.layers.2.attention_block.w_o.weight\", \"decoder.layers.2.norm.alpha\", \"decoder.layers.2.norm.bias\", \"decoder.layers.3.attention_block.w_q.weight\", \"decoder.layers.3.attention_block.w_k.weight\", \"decoder.layers.3.attention_block.w_v.weight\", \"decoder.layers.3.attention_block.w_o.weight\", \"decoder.layers.3.norm.alpha\", \"decoder.layers.3.norm.bias\", \"decoder.layers.4.attention_block.w_q.weight\", \"decoder.layers.4.attention_block.w_k.weight\", \"decoder.layers.4.attention_block.w_v.weight\", \"decoder.layers.4.attention_block.w_o.weight\", \"decoder.layers.4.norm.alpha\", \"decoder.layers.4.norm.bias\", \"decoder.layers.5.attention_block.w_q.weight\", \"decoder.layers.5.attention_block.w_k.weight\", \"decoder.layers.5.attention_block.w_v.weight\", \"decoder.layers.5.attention_block.w_o.weight\", \"decoder.layers.5.norm.alpha\", \"decoder.layers.5.norm.bias\", \"decoder.proj.fc.weight\", \"decoder.proj.fc.bias\". \n\tUnexpected key(s) in state_dict: \"src_embed.embedding.weight\", \"tgt_embed.embedding.weight\", \"src_pos.pe\", \"tgt_pos.pe\", \"projection_layer.proj.weight\", \"projection_layer.proj.bias\", \"encoder.layers.0.residual_connection1.norm.alpha\", \"encoder.layers.0.residual_connection1.norm.bias\", \"encoder.layers.0.residual_connection2.norm.alpha\", \"encoder.layers.0.residual_connection2.norm.bias\", \"encoder.layers.1.residual_connection1.norm.alpha\", \"encoder.layers.1.residual_connection1.norm.bias\", \"encoder.layers.1.residual_connection2.norm.alpha\", \"encoder.layers.1.residual_connection2.norm.bias\", \"encoder.layers.2.residual_connection1.norm.alpha\", \"encoder.layers.2.residual_connection1.norm.bias\", \"encoder.layers.2.residual_connection2.norm.alpha\", \"encoder.layers.2.residual_connection2.norm.bias\", \"encoder.layers.3.residual_connection1.norm.alpha\", \"encoder.layers.3.residual_connection1.norm.bias\", \"encoder.layers.3.residual_connection2.norm.alpha\", \"encoder.layers.3.residual_connection2.norm.bias\", \"encoder.layers.4.residual_connection1.norm.alpha\", \"encoder.layers.4.residual_connection1.norm.bias\", \"encoder.layers.4.residual_connection2.norm.alpha\", \"encoder.layers.4.residual_connection2.norm.bias\", \"encoder.layers.5.residual_connection1.norm.alpha\", \"encoder.layers.5.residual_connection1.norm.bias\", \"encoder.layers.5.residual_connection2.norm.alpha\", \"encoder.layers.5.residual_connection2.norm.bias\", \"decoder.layers.0.self_attention_block.w_q.weight\", \"decoder.layers.0.self_attention_block.w_k.weight\", \"decoder.layers.0.self_attention_block.w_v.weight\", \"decoder.layers.0.self_attention_block.w_o.weight\", \"decoder.layers.0.cross_attention_block.w_q.weight\", \"decoder.layers.0.cross_attention_block.w_k.weight\", \"decoder.layers.0.cross_attention_block.w_v.weight\", \"decoder.layers.0.cross_attention_block.w_o.weight\", \"decoder.layers.0.residual_connection1.norm.alpha\", \"decoder.layers.0.residual_connection1.norm.bias\", \"decoder.layers.0.residual_connection2.norm.alpha\", \"decoder.layers.0.residual_connection2.norm.bias\", \"decoder.layers.0.residual_connection3.norm.alpha\", \"decoder.layers.0.residual_connection3.norm.bias\", \"decoder.layers.1.self_attention_block.w_q.weight\", \"decoder.layers.1.self_attention_block.w_k.weight\", \"decoder.layers.1.self_attention_block.w_v.weight\", \"decoder.layers.1.self_attention_block.w_o.weight\", \"decoder.layers.1.cross_attention_block.w_q.weight\", \"decoder.layers.1.cross_attention_block.w_k.weight\", \"decoder.layers.1.cross_attention_block.w_v.weight\", \"decoder.layers.1.cross_attention_block.w_o.weight\", \"decoder.layers.1.residual_connection1.norm.alpha\", \"decoder.layers.1.residual_connection1.norm.bias\", \"decoder.layers.1.residual_connection2.norm.alpha\", \"decoder.layers.1.residual_connection2.norm.bias\", \"decoder.layers.1.residual_connection3.norm.alpha\", \"decoder.layers.1.residual_connection3.norm.bias\", \"decoder.layers.2.self_attention_block.w_q.weight\", \"decoder.layers.2.self_attention_block.w_k.weight\", \"decoder.layers.2.self_attention_block.w_v.weight\", \"decoder.layers.2.self_attention_block.w_o.weight\", \"decoder.layers.2.cross_attention_block.w_q.weight\", \"decoder.layers.2.cross_attention_block.w_k.weight\", \"decoder.layers.2.cross_attention_block.w_v.weight\", \"decoder.layers.2.cross_attention_block.w_o.weight\", \"decoder.layers.2.residual_connection1.norm.alpha\", \"decoder.layers.2.residual_connection1.norm.bias\", \"decoder.layers.2.residual_connection2.norm.alpha\", \"decoder.layers.2.residual_connection2.norm.bias\", \"decoder.layers.2.residual_connection3.norm.alpha\", \"decoder.layers.2.residual_connection3.norm.bias\", \"decoder.layers.3.self_attention_block.w_q.weight\", \"decoder.layers.3.self_attention_block.w_k.weight\", \"decoder.layers.3.self_attention_block.w_v.weight\", \"decoder.layers.3.self_attention_block.w_o.weight\", \"decoder.layers.3.cross_attention_block.w_q.weight\", \"decoder.layers.3.cross_attention_block.w_k.weight\", \"decoder.layers.3.cross_attention_block.w_v.weight\", \"decoder.layers.3.cross_attention_block.w_o.weight\", \"decoder.layers.3.residual_connection1.norm.alpha\", \"decoder.layers.3.residual_connection1.norm.bias\", \"decoder.layers.3.residual_connection2.norm.alpha\", \"decoder.layers.3.residual_connection2.norm.bias\", \"decoder.layers.3.residual_connection3.norm.alpha\", \"decoder.layers.3.residual_connection3.norm.bias\", \"decoder.layers.4.self_attention_block.w_q.weight\", \"decoder.layers.4.self_attention_block.w_k.weight\", \"decoder.layers.4.self_attention_block.w_v.weight\", \"decoder.layers.4.self_attention_block.w_o.weight\", \"decoder.layers.4.cross_attention_block.w_q.weight\", \"decoder.layers.4.cross_attention_block.w_k.weight\", \"decoder.layers.4.cross_attention_block.w_v.weight\", \"decoder.layers.4.cross_attention_block.w_o.weight\", \"decoder.layers.4.residual_connection1.norm.alpha\", \"decoder.layers.4.residual_connection1.norm.bias\", \"decoder.layers.4.residual_connection2.norm.alpha\", \"decoder.layers.4.residual_connection2.norm.bias\", \"decoder.layers.4.residual_connection3.norm.alpha\", \"decoder.layers.4.residual_connection3.norm.bias\", \"decoder.layers.5.self_attention_block.w_q.weight\", \"decoder.layers.5.self_attention_block.w_k.weight\", \"decoder.layers.5.self_attention_block.w_v.weight\", \"decoder.layers.5.self_attention_block.w_o.weight\", \"decoder.layers.5.cross_attention_block.w_q.weight\", \"decoder.layers.5.cross_attention_block.w_k.weight\", \"decoder.layers.5.cross_attention_block.w_v.weight\", \"decoder.layers.5.cross_attention_block.w_o.weight\", \"decoder.layers.5.residual_connection1.norm.alpha\", \"decoder.layers.5.residual_connection1.norm.bias\", \"decoder.layers.5.residual_connection2.norm.alpha\", \"decoder.layers.5.residual_connection2.norm.bias\", \"decoder.layers.5.residual_connection3.norm.alpha\", \"decoder.layers.5.residual_connection3.norm.bias\". "
     ]
    }
   ],
   "source": [
    "device = torch.device(\"cuda\" if torch.cuda.is_available() else \"cpu\")\n",
    "config = Config('config.yaml')\n",
    "\n",
    "# load tokenizers\n",
    "tokenizer_src = load_tokenizer(config=config, lang=config.LANG_SRC)\n",
    "tokenizer_tgt = load_tokenizer(config=config, lang=config.LANG_TGT)\n",
    "\n",
    "# build transformer architecture\n",
    "model = Transformer(\n",
    "    embed_size=config.D_MODEL,\n",
    "    src_vocab_size=tokenizer_src.get_vocab_size(),\n",
    "    tgt_vocab_size=tokenizer_tgt.get_vocab_size(),\n",
    "    max_len=config.MAX_LEN,\n",
    "    dropout=0.1,\n",
    "    heads=8,\n",
    "    hidden_size=2048,\n",
    "    N=6\n",
    ").to(device)\n",
    "\n",
    "# Load the pretrained weights\n",
    "model_filename = get_latest_weights_file_path(config=config)\n",
    "state = torch.load(f=model_filename, map_location=torch.device('cpu'))\n",
    "model.load_state_dict(state_dict=state['model_state_dict'])"
   ]
  },
  {
   "cell_type": "code",
   "execution_count": 81,
   "metadata": {},
   "outputs": [
    {
     "data": {
      "text/plain": [
       "', come sono felice di tempo ?'"
      ]
     },
     "execution_count": 81,
     "metadata": {},
     "output_type": "execute_result"
    }
   ],
   "source": [
    "text = \"Скажи мне, сколько сейчас времени?\"\n",
    "\n",
    "translate_text(\n",
    "    text=text, \n",
    "    model=model, \n",
    "    config=config, \n",
    "    device=device, \n",
    "    tokenizer_src=tokenizer_src, \n",
    "    tokenizer_tgt=tokenizer_tgt, \n",
    ")"
   ]
  },
  {
   "cell_type": "code",
   "execution_count": null,
   "metadata": {},
   "outputs": [],
   "source": []
  }
 ],
 "metadata": {
  "kernelspec": {
   "display_name": "transformer_translator",
   "language": "python",
   "name": "python3"
  },
  "language_info": {
   "codemirror_mode": {
    "name": "ipython",
    "version": 3
   },
   "file_extension": ".py",
   "mimetype": "text/x-python",
   "name": "python",
   "nbconvert_exporter": "python",
   "pygments_lexer": "ipython3",
   "version": "3.10.10"
  },
  "orig_nbformat": 4
 },
 "nbformat": 4,
 "nbformat_minor": 2
}
