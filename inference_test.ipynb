{
 "cells": [
  {
   "cell_type": "code",
   "execution_count": 4,
   "metadata": {},
   "outputs": [
    {
     "name": "stdout",
     "output_type": "stream",
     "text": [
      "The autoreload extension is already loaded. To reload it, use:\n",
      "  %reload_ext autoreload\n"
     ]
    }
   ],
   "source": [
    "import torch\n",
    "\n",
    "from utils import Config, get_latest_weights_file_path\n",
    "from train import Transformer\n",
    "from inference import translate_text\n",
    "from tokenizer import load_tokenizer\n",
    "\n",
    "%load_ext autoreload\n",
    "%autoreload 2"
   ]
  },
  {
   "cell_type": "code",
   "execution_count": 5,
   "metadata": {},
   "outputs": [
    {
     "data": {
      "text/plain": [
       "<All keys matched successfully>"
      ]
     },
     "execution_count": 5,
     "metadata": {},
     "output_type": "execute_result"
    }
   ],
   "source": [
    "device = torch.device(\"cuda\" if torch.cuda.is_available() else \"cpu\")\n",
    "config = Config('config.yaml')\n",
    "\n",
    "# load tokenizers\n",
    "src_tokenizer = load_tokenizer(config=config, lang=config.LANG_SRC)\n",
    "tgt_tokenizer = load_tokenizer(config=config, lang=config.LANG_TGT)\n",
    "\n",
    "# build transformer architecture\n",
    "model = Transformer(\n",
    "    embed_size=config.D_MODEL,\n",
    "    src_vocab_size=src_tokenizer.get_vocab_size(),\n",
    "    tgt_vocab_size=tgt_tokenizer.get_vocab_size(),\n",
    "    max_len=config.MAX_LEN,\n",
    "    dropout=0.1,\n",
    "    heads=8,\n",
    "    hidden_size=2048,\n",
    "    N=6\n",
    ").to(device)\n",
    "\n",
    "# Load the pretrained weights\n",
    "model_filename = get_latest_weights_file_path(config=config)\n",
    "state = torch.load(f=model_filename, map_location=torch.device('cpu'))\n",
    "model.load_state_dict(state_dict=state['model_state_dict'])"
   ]
  },
  {
   "cell_type": "code",
   "execution_count": 7,
   "metadata": {},
   "outputs": [
    {
     "data": {
      "text/plain": [
       "'— Ma , ?'"
      ]
     },
     "execution_count": 7,
     "metadata": {},
     "output_type": "execute_result"
    }
   ],
   "source": [
    "text = \"Скажи мне, сколько сейчас времени?\"\n",
    "\n",
    "translate_text(\n",
    "    text=text, \n",
    "    model=model, \n",
    "    config=config, \n",
    "    device=device, \n",
    "    src_tokenizer=src_tokenizer, \n",
    "    tgt_tokenizer=tgt_tokenizer, \n",
    ")"
   ]
  },
  {
   "cell_type": "code",
   "execution_count": null,
   "metadata": {},
   "outputs": [],
   "source": []
  }
 ],
 "metadata": {
  "kernelspec": {
   "display_name": "transformer_translator",
   "language": "python",
   "name": "python3"
  },
  "language_info": {
   "codemirror_mode": {
    "name": "ipython",
    "version": 3
   },
   "file_extension": ".py",
   "mimetype": "text/x-python",
   "name": "python",
   "nbconvert_exporter": "python",
   "pygments_lexer": "ipython3",
   "version": "3.10.10"
  },
  "orig_nbformat": 4
 },
 "nbformat": 4,
 "nbformat_minor": 2
}
