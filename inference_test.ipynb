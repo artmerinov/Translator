{
 "cells": [
  {
   "cell_type": "code",
   "execution_count": 79,
   "metadata": {},
   "outputs": [
    {
     "name": "stdout",
     "output_type": "stream",
     "text": [
      "The autoreload extension is already loaded. To reload it, use:\n",
      "  %reload_ext autoreload\n"
     ]
    }
   ],
   "source": [
    "import torch\n",
    "\n",
    "from utils import Config, get_latest_weights_file_path\n",
    "from train import build_transformer\n",
    "from inference import translate_text\n",
    "from tokenizer import load_tokenizer\n",
    "\n",
    "%load_ext autoreload\n",
    "%autoreload 2"
   ]
  },
  {
   "cell_type": "code",
   "execution_count": 80,
   "metadata": {},
   "outputs": [
    {
     "data": {
      "text/plain": [
       "<All keys matched successfully>"
      ]
     },
     "execution_count": 80,
     "metadata": {},
     "output_type": "execute_result"
    }
   ],
   "source": [
    "device = torch.device(\"cuda\" if torch.cuda.is_available() else \"cpu\")\n",
    "config = Config('config.yaml')\n",
    "\n",
    "# load tokenizers\n",
    "tokenizer_src = load_tokenizer(config=config, lang=config.LANG_SRC)\n",
    "tokenizer_tgt = load_tokenizer(config=config, lang=config.LANG_TGT)\n",
    "\n",
    "# build transformer architecture\n",
    "model = build_transformer(\n",
    "    src_vocab_size=tokenizer_src.get_vocab_size(),\n",
    "    tgt_vocab_size=tokenizer_tgt.get_vocab_size(),\n",
    "    src_seq_len=config.MAX_LEN,\n",
    "    tgt_seq_len=config.MAX_LEN,\n",
    "    embed_size=config.D_MODEL,\n",
    ").to(device)\n",
    "\n",
    "# Load the pretrained weights\n",
    "model_filename = get_latest_weights_file_path(config=config)\n",
    "state = torch.load(f=model_filename, map_location=torch.device('cpu'))\n",
    "model.load_state_dict(state_dict=state['model_state_dict'])"
   ]
  },
  {
   "cell_type": "code",
   "execution_count": 81,
   "metadata": {},
   "outputs": [
    {
     "data": {
      "text/plain": [
       "', come sono felice di tempo ?'"
      ]
     },
     "execution_count": 81,
     "metadata": {},
     "output_type": "execute_result"
    }
   ],
   "source": [
    "text = \"Скажи мне, сколько сейчас времени?\"\n",
    "\n",
    "translate_text(\n",
    "    text=text, \n",
    "    model=model, \n",
    "    config=config, \n",
    "    device=device, \n",
    "    tokenizer_src=tokenizer_src, \n",
    "    tokenizer_tgt=tokenizer_tgt, \n",
    ")"
   ]
  },
  {
   "cell_type": "code",
   "execution_count": null,
   "metadata": {},
   "outputs": [],
   "source": []
  }
 ],
 "metadata": {
  "kernelspec": {
   "display_name": "transformer_translator",
   "language": "python",
   "name": "python3"
  },
  "language_info": {
   "codemirror_mode": {
    "name": "ipython",
    "version": 3
   },
   "file_extension": ".py",
   "mimetype": "text/x-python",
   "name": "python",
   "nbconvert_exporter": "python",
   "pygments_lexer": "ipython3",
   "version": "3.10.10"
  },
  "orig_nbformat": 4
 },
 "nbformat": 4,
 "nbformat_minor": 2
}
